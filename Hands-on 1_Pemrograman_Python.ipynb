{
  "nbformat": 4,
  "nbformat_minor": 0,
  "metadata": {
    "colab": {
      "provenance": [],
      "authorship_tag": "ABX9TyMCogOR0GKnPS5wjgNxKqVr",
      "include_colab_link": true
    },
    "kernelspec": {
      "name": "python3",
      "display_name": "Python 3"
    },
    "language_info": {
      "name": "python"
    }
  },
  "cells": [
    {
      "cell_type": "markdown",
      "metadata": {
        "id": "view-in-github",
        "colab_type": "text"
      },
      "source": [
        "<a href=\"https://colab.research.google.com/github/rahmadyn295/studi-independent_orbit/blob/main/Hands-on%201_Pemrograman_Python.ipynb\" target=\"_parent\"><img src=\"https://colab.research.google.com/assets/colab-badge.svg\" alt=\"Open In Colab\"/></a>"
      ]
    },
    {
      "cell_type": "code",
      "execution_count": null,
      "metadata": {
        "colab": {
          "base_uri": "https://localhost:8080/"
        },
        "id": "0Ri1DbmwoKn7",
        "outputId": "bed2b7b0-99fa-48e3-bdfa-f87350bbf427"
      },
      "outputs": [
        {
          "output_type": "stream",
          "name": "stdout",
          "text": [
            "25 februaru adalah hari jum'at\n"
          ]
        }
      ],
      "source": [
        "print(\"25 februaru adalah hari jum'at\")"
      ]
    },
    {
      "cell_type": "code",
      "source": [
        "print(\"kepribadiannya \\\"bagai air di daun talas\\\"\")"
      ],
      "metadata": {
        "colab": {
          "base_uri": "https://localhost:8080/"
        },
        "id": "oAE3O5HBo8nq",
        "outputId": "efb80ddb-c176-4041-a195-96546bf464a6"
      },
      "execution_count": null,
      "outputs": [
        {
          "output_type": "stream",
          "name": "stdout",
          "text": [
            "kepribadiannya \"bagai air di daun talas\"\n"
          ]
        }
      ]
    },
    {
      "cell_type": "code",
      "source": [
        "print('sambung',end=' ')\n",
        "print('menyambung',end=' ')\n",
        "print('menjadi',end=' ')\n",
        "print('satu',end=' ')"
      ],
      "metadata": {
        "colab": {
          "base_uri": "https://localhost:8080/"
        },
        "id": "bGOnUswrpTBd",
        "outputId": "44b54eba-60c7-4550-dbf9-70b4997a7f96"
      },
      "execution_count": null,
      "outputs": [
        {
          "output_type": "stream",
          "name": "stdout",
          "text": [
            "sambung menyambung menjadi satu "
          ]
        }
      ]
    },
    {
      "cell_type": "code",
      "source": [
        "print(\"\"\"Contoh Pantun :\n",
        "1. Putih-putih bunga melati\n",
        "Merah-Merah buah delima\n",
        "Bagaimana hati tak geli\n",
        "Melihat gajah bermain mata\n",
        "\n",
        "2. Ke pasar membeli gunting\n",
        "Jangan lupa membeli pita\n",
        "Sangatlah heran si induk kucing\n",
        "Melihat tikus naik kereta\n",
        "\n",
        "\"\"\")"
      ],
      "metadata": {
        "colab": {
          "base_uri": "https://localhost:8080/"
        },
        "id": "tpZot9rIp_Fm",
        "outputId": "63df2cc0-bc83-4056-e0b2-0114cded2b64"
      },
      "execution_count": null,
      "outputs": [
        {
          "output_type": "stream",
          "name": "stdout",
          "text": [
            "Contoh Pantun :\n",
            "1. Putih-putih bunga melati\n",
            "Merah-Merah buah delima\n",
            "Bagaimana hati tak geli\n",
            "Melihat gajah bermain mata\n",
            "\n",
            "2. Ke pasar membeli gunting\n",
            "Jangan lupa membeli pita\n",
            "Sangatlah heran si induk kucing\n",
            "Melihat tikus naik kereta\n",
            "\n",
            "\n"
          ]
        }
      ]
    },
    {
      "cell_type": "code",
      "source": [
        "#docstring\n",
        "\"\"\"komentar ini sangat panjang\n",
        "berbeda dari komentar sebelumnya\n",
        "yang hanya satu paragraf\"\"\"\n",
        "\n",
        "print('ini docstring')"
      ],
      "metadata": {
        "colab": {
          "base_uri": "https://localhost:8080/"
        },
        "id": "WJM81TD4q8me",
        "outputId": "fca24b2a-5491-4de8-bf1c-441a0b308529"
      },
      "execution_count": null,
      "outputs": [
        {
          "output_type": "stream",
          "name": "stdout",
          "text": [
            "ini docstring\n"
          ]
        }
      ]
    },
    {
      "cell_type": "code",
      "source": [
        "#escape karakter\n",
        "print('satu\\ndua\\ntiga')#fungsinya seperti enter\n",
        "print('tiga\\tempat\\tlima')# fungsinya seperti spasi\n",
        "print('\\tarik\\tunai')\n",
        "print('\\\\tarik\\\\tunai')#menambah backslash"
      ],
      "metadata": {
        "colab": {
          "base_uri": "https://localhost:8080/"
        },
        "id": "Jzcegj2GroPM",
        "outputId": "c07cd204-5198-4021-b65a-39550e0b5b95"
      },
      "execution_count": null,
      "outputs": [
        {
          "output_type": "stream",
          "name": "stdout",
          "text": [
            "satu\n",
            "dua\n",
            "tiga\n",
            "tiga\tempat\tlima\n",
            "\tarik\tunai\n",
            "\\tarik\\tunai\n"
          ]
        }
      ]
    },
    {
      "cell_type": "code",
      "source": [
        "#input\n",
        "a= input('berapa usia anda = ')\n",
        "print('maka usia anda adalah :',a,'tahun')"
      ],
      "metadata": {
        "colab": {
          "base_uri": "https://localhost:8080/"
        },
        "id": "mQnC9PVCtJd2",
        "outputId": "a1dbaeb5-162b-44dc-b42b-a022b7f268a6"
      },
      "execution_count": null,
      "outputs": [
        {
          "output_type": "stream",
          "name": "stdout",
          "text": [
            "berapa usia anda = 17\n",
            "maka usia anda adalah : 17 tahun\n"
          ]
        }
      ]
    }
  ]
}