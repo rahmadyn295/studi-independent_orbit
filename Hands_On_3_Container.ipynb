{
  "nbformat": 4,
  "nbformat_minor": 0,
  "metadata": {
    "colab": {
      "provenance": [],
      "authorship_tag": "ABX9TyMiDOO+Plfrl6e2JW/EOPpy",
      "include_colab_link": true
    },
    "kernelspec": {
      "name": "python3",
      "display_name": "Python 3"
    },
    "language_info": {
      "name": "python"
    }
  },
  "cells": [
    {
      "cell_type": "markdown",
      "metadata": {
        "id": "view-in-github",
        "colab_type": "text"
      },
      "source": [
        "<a href=\"https://colab.research.google.com/github/rahmadyn295/studi-independent_orbit/blob/main/Hands_On_3_Container.ipynb\" target=\"_parent\"><img src=\"https://colab.research.google.com/assets/colab-badge.svg\" alt=\"Open In Colab\"/></a>"
      ]
    },
    {
      "cell_type": "markdown",
      "source": [
        "# Container"
      ],
      "metadata": {
        "id": "ybJZhuo-J7mZ"
      }
    },
    {
      "cell_type": "markdown",
      "source": [
        "List []\n"
      ],
      "metadata": {
        "id": "Yu0pKstZKVKu"
      }
    },
    {
      "cell_type": "code",
      "execution_count": null,
      "metadata": {
        "colab": {
          "base_uri": "https://localhost:8080/"
        },
        "id": "IqK9XJ5qJ6Y3",
        "outputId": "5d3d148a-4abe-4dc6-b502-da8d833f1f27"
      },
      "outputs": [
        {
          "output_type": "stream",
          "name": "stdout",
          "text": [
            "['hanifa', 2004, 'semarang', 'perempuan', 3.84, True]\n"
          ]
        }
      ],
      "source": [
        "biodata=['hanifa',2004,'semarang','perempuan',3.84,True]\n",
        "print(biodata)"
      ]
    },
    {
      "cell_type": "code",
      "source": [
        "pixel=[[0,1,1],[2,3,5],[1,2,3]]\n",
        "\n",
        "print(pixel)"
      ],
      "metadata": {
        "colab": {
          "base_uri": "https://localhost:8080/"
        },
        "id": "4XMnV4RSLJdP",
        "outputId": "aebe6b27-e910-4b27-ce63-6318a440b82f"
      },
      "execution_count": null,
      "outputs": [
        {
          "output_type": "stream",
          "name": "stdout",
          "text": [
            "[[0, 1, 1], [2, 3, 5], [1, 2, 3]]\n"
          ]
        }
      ]
    },
    {
      "cell_type": "code",
      "source": [
        "kota=[['semarang','jogja','surabaya'],\n",
        " ['jakarta','bandung'],\n",
        "  ['malang']]\n",
        "print(kota)\n",
        "\n",
        "print(len('semarang'))"
      ],
      "metadata": {
        "colab": {
          "base_uri": "https://localhost:8080/"
        },
        "id": "-JDYspiGLsOf",
        "outputId": "688ab760-22f5-4250-d2ed-209800eb4582"
      },
      "execution_count": null,
      "outputs": [
        {
          "output_type": "stream",
          "name": "stdout",
          "text": [
            "[['semarang', 'jogja', 'surabaya'], ['jakarta', 'bandung'], ['malang']]\n",
            "8\n"
          ]
        }
      ]
    },
    {
      "cell_type": "code",
      "source": [
        "print('desimal'[3])# menghitungnya dari depan dimulai dari 0\n",
        "print('jingga'[-3])# menghitungnya dari belakang dimulai dari -1"
      ],
      "metadata": {
        "colab": {
          "base_uri": "https://localhost:8080/"
        },
        "id": "h6I7tXKUMsog",
        "outputId": "ead7dbf5-7324-46da-aba7-80566209a57c"
      },
      "execution_count": null,
      "outputs": [
        {
          "output_type": "stream",
          "name": "stdout",
          "text": [
            "i\n",
            "g\n"
          ]
        }
      ]
    },
    {
      "cell_type": "code",
      "source": [
        "print('kebanggaan'[2:8])#[index awal :index ankhir+1]\n",
        "print('kemerdekaan'[-9:-2])"
      ],
      "metadata": {
        "colab": {
          "base_uri": "https://localhost:8080/"
        },
        "id": "8rWg-NFxNTNO",
        "outputId": "ce48957c-aef6-41bd-e413-1d156bb40a1b"
      },
      "execution_count": null,
      "outputs": [
        {
          "output_type": "stream",
          "name": "stdout",
          "text": [
            "bangga\n",
            "merdeka\n"
          ]
        }
      ]
    },
    {
      "cell_type": "code",
      "source": [
        "print ('warna')\n",
        "print ('warna'[3:])#index yg depan dikecualikan yg diikutsertakan yg belakang\n",
        "print ('warna'[:3])#index yg belakang dikecualikan yg diikutsertakan yg depan\n",
        "print ('warna'[:-1])\n",
        "print ('warna'[-1:])"
      ],
      "metadata": {
        "colab": {
          "base_uri": "https://localhost:8080/"
        },
        "id": "Ruh-422CPN3-",
        "outputId": "f84794e2-cfc6-451b-b2b5-7db4d33486ad"
      },
      "execution_count": null,
      "outputs": [
        {
          "output_type": "stream",
          "name": "stdout",
          "text": [
            "warna\n",
            "na\n",
            "war\n",
            "warn\n",
            "a\n"
          ]
        }
      ]
    },
    {
      "cell_type": "code",
      "source": [
        "cuaca=['cerah']\n",
        "\n",
        "cuaca.append('berawan')\n",
        "cuaca.append('hujan')\n",
        "cuaca.append('mendung')\n",
        "\n",
        "print(cuaca)"
      ],
      "metadata": {
        "colab": {
          "base_uri": "https://localhost:8080/"
        },
        "id": "ePiuLOi1QBoJ",
        "outputId": "7ec2a0a5-f1ca-4a95-d325-c1f469e7be98"
      },
      "execution_count": null,
      "outputs": [
        {
          "output_type": "stream",
          "name": "stdout",
          "text": [
            "['cerah', 'berawan', 'hujan', 'mendung']\n"
          ]
        }
      ]
    },
    {
      "cell_type": "code",
      "source": [
        "angka=[1,2,3]\n",
        "huruf=['a','b']\n",
        "\n",
        "gabung=angka+huruf\n",
        "print(gabung)"
      ],
      "metadata": {
        "colab": {
          "base_uri": "https://localhost:8080/"
        },
        "id": "EXgpqhfCQan0",
        "outputId": "de2c91ff-1194-42f1-b233-ae00b467f7ae"
      },
      "execution_count": null,
      "outputs": [
        {
          "output_type": "stream",
          "name": "stdout",
          "text": [
            "[1, 2, 3, 'a', 'b']\n"
          ]
        }
      ]
    },
    {
      "cell_type": "code",
      "source": [
        "#pemeriksaan elemen dalam list bisa menggunakan in atau not in\n",
        "cuaca=['cerah','berawan','mendung','hujan']\n",
        "\n",
        "'berangin' in cuaca"
      ],
      "metadata": {
        "colab": {
          "base_uri": "https://localhost:8080/"
        },
        "id": "SWCFVc-cQyAq",
        "outputId": "bc5c836c-2a62-4e80-98c4-2dc17cbef6ac"
      },
      "execution_count": null,
      "outputs": [
        {
          "output_type": "execute_result",
          "data": {
            "text/plain": [
              "False"
            ]
          },
          "metadata": {},
          "execution_count": 32
        }
      ]
    },
    {
      "cell_type": "code",
      "source": [
        "cuaca=['cerah','berawan','mendung','hujan']#mencari index\n",
        "\n",
        "cuaca.index('hujan')"
      ],
      "metadata": {
        "colab": {
          "base_uri": "https://localhost:8080/"
        },
        "id": "dNmQoMnHRWRu",
        "outputId": "f631ee91-e8ba-4ec5-a6b8-7e9e2d89ee68"
      },
      "execution_count": null,
      "outputs": [
        {
          "output_type": "execute_result",
          "data": {
            "text/plain": [
              "3"
            ]
          },
          "metadata": {},
          "execution_count": 33
        }
      ]
    },
    {
      "cell_type": "code",
      "source": [
        "cuaca=['cerah','berawan','mendung','hujan','berangin','gerimis']#mencari index\n",
        "\n",
        "del cuaca[2]#menghapus berdasarkan index\n",
        "print (cuaca)\n",
        "\n",
        "cuaca.remove('hujan')#menghapus elemen\n",
        "print (cuaca)\n",
        "\n",
        "cuaca.clear()#menghapus seluruh elemen\n",
        "print (cuaca)"
      ],
      "metadata": {
        "colab": {
          "base_uri": "https://localhost:8080/"
        },
        "id": "hEhdyEb7RxCJ",
        "outputId": "32fca15c-42a6-44c5-a9c3-18aa092566a3"
      },
      "execution_count": null,
      "outputs": [
        {
          "output_type": "stream",
          "name": "stdout",
          "text": [
            "['cerah', 'berawan', 'hujan', 'berangin', 'gerimis']\n",
            "['cerah', 'berawan', 'berangin', 'gerimis']\n",
            "[]\n"
          ]
        }
      ]
    },
    {
      "cell_type": "markdown",
      "source": [
        "TUPLE()\n",
        "1. tidak bisa menambah atau menghapus elemen"
      ],
      "metadata": {
        "id": "QggXzggyX7zN"
      }
    },
    {
      "cell_type": "code",
      "source": [],
      "metadata": {
        "id": "f24iLeqAX_xa"
      },
      "execution_count": null,
      "outputs": []
    },
    {
      "cell_type": "markdown",
      "source": [
        "set {}\n",
        "1. mengabaikan nilai bernilai sama\n",
        "2. tidak memiliki index"
      ],
      "metadata": {
        "id": "bJFLq7WIUIVy"
      }
    },
    {
      "cell_type": "code",
      "source": [
        "angka={1,1,1,3,5,3,9,5,4}\n",
        "\n",
        "print(angka)"
      ],
      "metadata": {
        "colab": {
          "base_uri": "https://localhost:8080/"
        },
        "id": "Bno4D8g7U_Pe",
        "outputId": "7e20013f-2eb5-49ce-c69e-35ead363ac4f"
      },
      "execution_count": null,
      "outputs": [
        {
          "output_type": "stream",
          "name": "stdout",
          "text": [
            "{1, 3, 4, 5, 9}\n"
          ]
        }
      ]
    },
    {
      "cell_type": "code",
      "source": [
        "angka={1,3,5,9,4}\n",
        "\n",
        "print(angka[1])"
      ],
      "metadata": {
        "colab": {
          "base_uri": "https://localhost:8080/",
          "height": 176
        },
        "id": "WNjtVAm1VnfA",
        "outputId": "683492f6-ef35-4699-d47b-a085ad8331ec"
      },
      "execution_count": null,
      "outputs": [
        {
          "output_type": "error",
          "ename": "TypeError",
          "evalue": "'set' object is not subscriptable",
          "traceback": [
            "\u001b[0;31m---------------------------------------------------------------------------\u001b[0m",
            "\u001b[0;31mTypeError\u001b[0m                                 Traceback (most recent call last)",
            "\u001b[0;32m<ipython-input-41-5d365975a4c4>\u001b[0m in \u001b[0;36m<cell line: 3>\u001b[0;34m()\u001b[0m\n\u001b[1;32m      1\u001b[0m \u001b[0mangka\u001b[0m\u001b[0;34m=\u001b[0m\u001b[0;34m{\u001b[0m\u001b[0;36m1\u001b[0m\u001b[0;34m,\u001b[0m\u001b[0;36m3\u001b[0m\u001b[0;34m,\u001b[0m\u001b[0;36m5\u001b[0m\u001b[0;34m,\u001b[0m\u001b[0;36m9\u001b[0m\u001b[0;34m,\u001b[0m\u001b[0;36m4\u001b[0m\u001b[0;34m}\u001b[0m\u001b[0;34m\u001b[0m\u001b[0;34m\u001b[0m\u001b[0m\n\u001b[1;32m      2\u001b[0m \u001b[0;34m\u001b[0m\u001b[0m\n\u001b[0;32m----> 3\u001b[0;31m \u001b[0mprint\u001b[0m\u001b[0;34m(\u001b[0m\u001b[0mangka\u001b[0m\u001b[0;34m[\u001b[0m\u001b[0;36m1\u001b[0m\u001b[0;34m]\u001b[0m\u001b[0;34m)\u001b[0m\u001b[0;34m\u001b[0m\u001b[0;34m\u001b[0m\u001b[0m\n\u001b[0m",
            "\u001b[0;31mTypeError\u001b[0m: 'set' object is not subscriptable"
          ]
        }
      ]
    },
    {
      "cell_type": "code",
      "source": [
        "angka={1,3,5,9,4}#menambahkan elemen\n",
        "angka.add(6)\n",
        "angka.add(7)\n",
        "angka.add(14)\n",
        "print(angka)"
      ],
      "metadata": {
        "colab": {
          "base_uri": "https://localhost:8080/"
        },
        "id": "xE2mz3i8V59k",
        "outputId": "c78dd3c1-cf6d-42fb-8b01-ca3dc2fc34bb"
      },
      "execution_count": null,
      "outputs": [
        {
          "output_type": "stream",
          "name": "stdout",
          "text": [
            "{1, 3, 4, 5, 6, 7, 9, 14}\n"
          ]
        }
      ]
    },
    {
      "cell_type": "code",
      "source": [
        "angka={1, 3, 4, 5, 6, 7, 9, 14}#menghapus\n",
        "angka.remove(3)\n",
        "angka.remove(7)\n",
        "print(angka)"
      ],
      "metadata": {
        "colab": {
          "base_uri": "https://localhost:8080/"
        },
        "id": "FdDAqOqvWJF_",
        "outputId": "024a081e-2406-4147-95c3-d0abce4370d2"
      },
      "execution_count": null,
      "outputs": [
        {
          "output_type": "stream",
          "name": "stdout",
          "text": [
            "{1, 4, 5, 6, 9, 14}\n"
          ]
        }
      ]
    },
    {
      "cell_type": "code",
      "source": [
        "A={1,3,5,7,9}\n",
        "B={1,3,7}\n",
        "\n",
        "irisan= A.intersection(B)\n",
        "print(irisan)\n",
        "\n",
        "gabungan= A.union(B)\n",
        "print(gabungan)"
      ],
      "metadata": {
        "colab": {
          "base_uri": "https://localhost:8080/"
        },
        "id": "XwUQbAO3Wrie",
        "outputId": "9aaa43ee-f683-45ad-d054-6e13e0ba1dfd"
      },
      "execution_count": null,
      "outputs": [
        {
          "output_type": "stream",
          "name": "stdout",
          "text": [
            "{1, 3, 7}\n",
            "{1, 3, 5, 7, 9}\n"
          ]
        }
      ]
    },
    {
      "cell_type": "markdown",
      "source": [
        "Dictionary {}"
      ],
      "metadata": {
        "id": "XsrsEiS7uuM3"
      }
    },
    {
      "cell_type": "code",
      "source": [
        "data1={'nama':'hanif','usia':'20','asal':'semarang'}\n",
        "data2=data1.copy()\n",
        "print(data2)\n",
        "\n",
        "usia=data1.get('usia')\n",
        "print(usia)\n",
        "\n",
        "data1.update({'gaji':2000000,'pekerjaan':'programmer'})\n",
        "print(data1)\n",
        "\n",
        "data1.pop('pekerjaan')\n",
        "print(data1)"
      ],
      "metadata": {
        "colab": {
          "base_uri": "https://localhost:8080/"
        },
        "id": "c9xe4Ff_2j19",
        "outputId": "2f1faa71-efb6-483c-cf7a-1dde22514b98"
      },
      "execution_count": null,
      "outputs": [
        {
          "output_type": "stream",
          "name": "stdout",
          "text": [
            "{'nama': 'hanif', 'usia': '20', 'asal': 'semarang'}\n",
            "20\n",
            "{'nama': 'hanif', 'usia': '20', 'asal': 'semarang', 'gaji': 2000000, 'pekerjaan': 'programmer'}\n",
            "{'nama': 'hanif', 'usia': '20', 'asal': 'semarang', 'gaji': 2000000}\n"
          ]
        }
      ]
    }
  ]
}