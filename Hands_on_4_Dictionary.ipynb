{
  "nbformat": 4,
  "nbformat_minor": 0,
  "metadata": {
    "colab": {
      "provenance": [],
      "authorship_tag": "ABX9TyPOOnXsBX7UKRBEcAs8nVq3",
      "include_colab_link": true
    },
    "kernelspec": {
      "name": "python3",
      "display_name": "Python 3"
    },
    "language_info": {
      "name": "python"
    }
  },
  "cells": [
    {
      "cell_type": "markdown",
      "metadata": {
        "id": "view-in-github",
        "colab_type": "text"
      },
      "source": [
        "<a href=\"https://colab.research.google.com/github/rahmadyn295/studi-independent_orbit/blob/main/Hands_on_4_Dictionary.ipynb\" target=\"_parent\"><img src=\"https://colab.research.google.com/assets/colab-badge.svg\" alt=\"Open In Colab\"/></a>"
      ]
    },
    {
      "cell_type": "code",
      "execution_count": null,
      "metadata": {
        "colab": {
          "base_uri": "https://localhost:8080/"
        },
        "id": "UwrgWLZU4-dY",
        "outputId": "0f08e6f3-cef9-4b39-96ba-4dc957797e32"
      },
      "outputs": [
        {
          "output_type": "stream",
          "name": "stdout",
          "text": [
            "{'Indonesia': 'ina', 'India': 'ind', 'Japan': 'jpn'}\n",
            "<class 'dict'>\n",
            "ina\n",
            "{'Indonesia': 'ina', 'India': 'ind', 'Japan': 'jpn', 'China': 'chn'}\n",
            "{'Indonesia': 'idn', 'India': 'ind', 'Japan': 'jpn', 'China': 'chn'}\n",
            "{'Indonesia': 'idn', 'India': 'ind', 'Japan': 'jpn'}\n",
            "3\n",
            "False\n",
            "dict_keys(['Indonesia', 'India', 'Japan'])\n",
            "dict_values(['idn', 'ind', 'jpn'])\n",
            "dict_items([('Indonesia', 'idn'), ('India', 'ind'), ('Japan', 'jpn')])\n"
          ]
        }
      ],
      "source": [
        "kode_negara={'Indonesia': 'ina','India': 'ind','Japan': 'jpn'}\n",
        "print(kode_negara)\n",
        "\n",
        "print(type(kode_negara))\n",
        "\n",
        "print(kode_negara['Indonesia'])\n",
        "\n",
        "kode_negara['China'] = 'chn'\n",
        "print(kode_negara)\n",
        "\n",
        "kode_negara['Indonesia'] = 'idn'\n",
        "print(kode_negara)\n",
        "\n",
        "del kode_negara['China']\n",
        "print(kode_negara)\n",
        "\n",
        "print(len(kode_negara))\n",
        "\n",
        "print('Germany' in kode_negara)\n",
        "\n",
        "kunci =kode_negara.keys()\n",
        "print(kunci)\n",
        "\n",
        "nilai =kode_negara.values()\n",
        "print(nilai)\n",
        "\n",
        "pasangan =kode_negara.items()\n",
        "print(pasangan)"
      ]
    },
    {
      "cell_type": "code",
      "source": [
        "student = {\n",
        "    'nama':'hanifah',\n",
        "    'usia':'20',\n",
        "    'nilai':{\n",
        "        'fisika' : 75,\n",
        "        'kimia' : 89,\n",
        "        'Ekonomi' : 90\n",
        "    }\n",
        "}\n",
        "\n",
        "print('nilai kimia :',student['nilai']['kimia'])"
      ],
      "metadata": {
        "colab": {
          "base_uri": "https://localhost:8080/"
        },
        "id": "gWDhp4M-5PiU",
        "outputId": "b684b8b6-827f-4e6f-9523-655e8f156cfb"
      },
      "execution_count": null,
      "outputs": [
        {
          "output_type": "stream",
          "name": "stdout",
          "text": [
            "nilai kimia : 89\n"
          ]
        }
      ]
    },
    {
      "cell_type": "code",
      "source": [
        "data1={'nama':'hanif','usia':'20','asal':'semarang'}\n",
        "data2=data1.copy()\n",
        "print(data2)\n",
        "\n",
        "usia=data1.get('usia')\n",
        "print(usia)\n",
        "\n",
        "data1.update({'gaji':2000000,'pekerjaan':'programmer'})\n",
        "print(data1)\n",
        "\n",
        "data1.pop('pekerjaan')\n",
        "print(data1)"
      ],
      "metadata": {
        "colab": {
          "base_uri": "https://localhost:8080/"
        },
        "id": "swR7L86d5Y6F",
        "outputId": "0a092294-10d3-4d1a-f3f5-7c281f30dbb6"
      },
      "execution_count": null,
      "outputs": [
        {
          "output_type": "stream",
          "name": "stdout",
          "text": [
            "{'nama': 'hanif', 'usia': '20', 'asal': 'semarang'}\n",
            "20\n",
            "{'nama': 'hanif', 'usia': '20', 'asal': 'semarang', 'gaji': 2000000, 'pekerjaan': 'programmer'}\n",
            "{'nama': 'hanif', 'usia': '20', 'asal': 'semarang', 'gaji': 2000000}\n"
          ]
        }
      ]
    }
  ]
}