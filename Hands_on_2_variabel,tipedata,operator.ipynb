{
  "nbformat": 4,
  "nbformat_minor": 0,
  "metadata": {
    "colab": {
      "provenance": [],
      "authorship_tag": "ABX9TyMD+GqSKvGz9s3u22DHRW8U",
      "include_colab_link": true
    },
    "kernelspec": {
      "name": "python3",
      "display_name": "Python 3"
    },
    "language_info": {
      "name": "python"
    }
  },
  "cells": [
    {
      "cell_type": "markdown",
      "metadata": {
        "id": "view-in-github",
        "colab_type": "text"
      },
      "source": [
        "<a href=\"https://colab.research.google.com/github/rahmadyn295/studi-independent_orbit/blob/main/Hands_on_2_variabel%2Ctipedata%2Coperator.ipynb\" target=\"_parent\"><img src=\"https://colab.research.google.com/assets/colab-badge.svg\" alt=\"Open In Colab\"/></a>"
      ]
    },
    {
      "cell_type": "markdown",
      "source": [
        "# Variabel"
      ],
      "metadata": {
        "id": "acuONaf88kHb"
      }
    },
    {
      "cell_type": "code",
      "execution_count": null,
      "metadata": {
        "colab": {
          "base_uri": "https://localhost:8080/"
        },
        "id": "r0ObPg0-xRb4",
        "outputId": "0da05d8a-0e98-4a61-e17e-453f8789ff94"
      },
      "outputs": [
        {
          "output_type": "stream",
          "name": "stdout",
          "text": [
            "Masukan Nama Anda :rar\n",
            "Masukan Usia Anda :12\n",
            "Nama Anda adalah rar dan Berusia 12 tahun\n"
          ]
        }
      ],
      "source": [
        "#variabel\n",
        "\"\"\"pembuatan variabel tidak bisa jika:\n",
        "1.diawali angka (ex: 4rif)\n",
        "2.tidak boleh menggunakan spasi\n",
        "3.tidak boleh mengggunakan special character, kecuali simbol underscore (_)(ex:$anam, yg boleh _anam)\n",
        "4. tidak boleh menggunakan keyword Python (ex:none)\n",
        "\"\"\"\n",
        "namalengkap='rara putri'\n",
        "nama_lengkap='rara putri'\n",
        "nama =input('Masukan Nama Anda :')\n",
        "usia =input('Masukan Usia Anda :')\n",
        "print('Nama Anda adalah',nama,'dan Berusia',usia,'tahun')"
      ]
    },
    {
      "cell_type": "code",
      "source": [
        "Nama ='Hanifa'\n",
        "Usia = 19\n",
        "Asal ='Jogja'\n",
        "IPK= 3.4\n",
        "MahasiswaAktif= True\n",
        "\n",
        "print(Nama)\n",
        "print(Usia)\n",
        "print(Asal)\n",
        "print(IPK)\n",
        "print(MahasiswaAktif)"
      ],
      "metadata": {
        "colab": {
          "base_uri": "https://localhost:8080/"
        },
        "id": "CFkhx1zO1xMX",
        "outputId": "62648b30-168d-4ff2-bc01-bbd8d251ac59"
      },
      "execution_count": null,
      "outputs": [
        {
          "output_type": "stream",
          "name": "stdout",
          "text": [
            "Hanifa\n",
            "19\n",
            "Jogja\n",
            "3.4\n",
            "True\n"
          ]
        }
      ]
    },
    {
      "cell_type": "code",
      "source": [
        "Nama ='Hanifa'\n",
        "Usia = 19\n",
        "Asal ='Jogja'\n",
        "IPK= 3.4\n",
        "MahasiswaAktif= True\n",
        "\n",
        "print('Nama Mahasiswa\\t\\t: {}'.format(Nama))\n",
        "print('Usia Mahasiswa\\t\\t: {}'.format(Usia))\n",
        "print('Asal Mahasiswa\\t\\t: {}'.format(Asal))\n",
        "print('IPK Mahasiswa\\t\\t: {}'.format(IPK))\n",
        "print('Status Mahasiswa Aktif\\t: {}'.format(MahasiswaAktif))"
      ],
      "metadata": {
        "colab": {
          "base_uri": "https://localhost:8080/"
        },
        "id": "eGHMjaUT25Wo",
        "outputId": "83f3e737-8ab6-4e6d-ec11-5d1c5459830d"
      },
      "execution_count": null,
      "outputs": [
        {
          "output_type": "stream",
          "name": "stdout",
          "text": [
            "Nama Mahasiswa\t\t: Hanifa\n",
            "Usia Mahasiswa\t\t: 19\n",
            "Asal Mahasiswa\t\t: Jogja\n",
            "IPK Mahasiswa\t\t: 3.4\n",
            "Status Mahasiswa Aktif\t: True\n"
          ]
        }
      ]
    },
    {
      "cell_type": "code",
      "source": [
        "Nama ='Hanifa'\n",
        "Usia = 19\n",
        "Asal ='Jogja'\n",
        "IPK= 3.4\n",
        "MahasiswaAktif= True\n",
        "\n",
        "print(f'Nama Mahasiswa\\t\\t: {Nama}')\n",
        "print(f'Usia Mahasiswa\\t\\t: {Usia}')\n",
        "print(f'Asal Mahasiswa\\t\\t: {Asal}')\n",
        "print(f'IPK Mahasiswa\\t\\t: {IPK}')\n",
        "print(f'Status Mahasiswa Aktif\\t: {MahasiswaAktif}')"
      ],
      "metadata": {
        "colab": {
          "base_uri": "https://localhost:8080/"
        },
        "id": "seTWQYZG4Ai2",
        "outputId": "198d712c-b655-4944-9d12-6831642a88ef"
      },
      "execution_count": null,
      "outputs": [
        {
          "output_type": "stream",
          "name": "stdout",
          "text": [
            "Nama Mahasiswa\t\t: Hanifa\n",
            "Usia Mahasiswa\t\t: 19\n",
            "Asal Mahasiswa\t\t: Jogja\n",
            "IPK Mahasiswa\t\t: 3.4\n",
            "Status Mahasiswa Aktif\t: True\n"
          ]
        }
      ]
    },
    {
      "cell_type": "code",
      "source": [
        "tahun_lahir=int(input('tahun lahir anda: '))\n",
        "print('usia saat ini: ', 2024 - tahun_lahir,'tahun')"
      ],
      "metadata": {
        "colab": {
          "base_uri": "https://localhost:8080/"
        },
        "id": "l-BkNBsH42v-",
        "outputId": "68463966-8d1a-4acf-9bd8-b4b504557a75"
      },
      "execution_count": null,
      "outputs": [
        {
          "output_type": "stream",
          "name": "stdout",
          "text": [
            "tahun lahir anda: 2003\n",
            "usia saat ini:  21 tahun\n"
          ]
        }
      ]
    },
    {
      "cell_type": "markdown",
      "source": [
        "# Tipe Data"
      ],
      "metadata": {
        "id": "hnqcwtiYz1oh"
      }
    },
    {
      "cell_type": "code",
      "source": [
        "#integer\n",
        "nilaia=90\n",
        "nilaib=-90\n",
        "type(nilaia)\n",
        "type(nilaib)"
      ],
      "metadata": {
        "colab": {
          "base_uri": "https://localhost:8080/"
        },
        "id": "3a4de42QzLG1",
        "outputId": "01679863-434d-4a9a-a504-f5fb77cb29e9"
      },
      "execution_count": null,
      "outputs": [
        {
          "output_type": "execute_result",
          "data": {
            "text/plain": [
              "int"
            ]
          },
          "metadata": {},
          "execution_count": 5
        }
      ]
    },
    {
      "cell_type": "code",
      "source": [
        "#float\n",
        "pi=3.14\n",
        "rata2=7.5\n",
        "type(pi)\n",
        "type(rata2)"
      ],
      "metadata": {
        "colab": {
          "base_uri": "https://localhost:8080/"
        },
        "id": "7fm5Llsn0XZh",
        "outputId": "57c32467-c6df-4d4a-dcac-31fbd3485909"
      },
      "execution_count": null,
      "outputs": [
        {
          "output_type": "execute_result",
          "data": {
            "text/plain": [
              "float"
            ]
          },
          "metadata": {},
          "execution_count": 6
        }
      ]
    },
    {
      "cell_type": "code",
      "source": [
        "#string\n",
        "Buku1='Dongeng Kancil'\n",
        "nim='209367292201'\n",
        "type(Buku1)\n",
        "type(nim)"
      ],
      "metadata": {
        "colab": {
          "base_uri": "https://localhost:8080/"
        },
        "id": "yZso4yMs0rcN",
        "outputId": "61031a42-5bc6-4ad1-cf8e-c152a27f68b6"
      },
      "execution_count": null,
      "outputs": [
        {
          "output_type": "execute_result",
          "data": {
            "text/plain": [
              "str"
            ]
          },
          "metadata": {},
          "execution_count": 7
        }
      ]
    },
    {
      "cell_type": "code",
      "source": [
        "from typing_extensions import Type\n",
        "#boolean\n",
        "Lulusa= False\n",
        "Lulusb = True\n",
        "type(Lulusa)\n",
        "type(Lulusb)"
      ],
      "metadata": {
        "colab": {
          "base_uri": "https://localhost:8080/"
        },
        "id": "IeOMbYgN1Ktr",
        "outputId": "d5a2c263-479b-4f71-ccb5-04e3ea494661"
      },
      "execution_count": null,
      "outputs": [
        {
          "output_type": "execute_result",
          "data": {
            "text/plain": [
              "bool"
            ]
          },
          "metadata": {},
          "execution_count": 8
        }
      ]
    },
    {
      "cell_type": "markdown",
      "source": [
        "# TypeCasting\n",
        "catatan:\n",
        "1. Jika ingin mengubah data pastikan dulu bahwa data yang diubah cocok\n",
        "    ex: string ke int\n",
        "    nama='eka'\n",
        "    nama=int(nama)\n",
        "  hal ini akan menimbulkan eror karena isi dari variabel nama bukanlah angka namun sebuah kata/kalimat. hal ini berlaku juga untuk float"
      ],
      "metadata": {
        "id": "vn-W2W745vHT"
      }
    },
    {
      "cell_type": "code",
      "source": [
        "#float ke int\n",
        "akurasi= 90.3\n",
        "akurasi = int(akurasi)\n",
        "print(akurasi)\n",
        "type(akurasi)"
      ],
      "metadata": {
        "colab": {
          "base_uri": "https://localhost:8080/"
        },
        "id": "5mxjzG-g5w5e",
        "outputId": "e119a4b0-2b48-4880-8ce6-12f2529886e8"
      },
      "execution_count": null,
      "outputs": [
        {
          "output_type": "stream",
          "name": "stdout",
          "text": [
            "90\n"
          ]
        },
        {
          "output_type": "execute_result",
          "data": {
            "text/plain": [
              "int"
            ]
          },
          "metadata": {},
          "execution_count": 23
        }
      ]
    },
    {
      "cell_type": "code",
      "source": [
        "#int ke float\n",
        "Jumlah = 20\n",
        "Jumlah = float(Jumlah)\n",
        "print(Jumlah)\n",
        "type(Jumlah)"
      ],
      "metadata": {
        "colab": {
          "base_uri": "https://localhost:8080/"
        },
        "id": "rTmWtb_r6JG9",
        "outputId": "63e40ce1-1660-4c9d-8bf1-36a8415b0629"
      },
      "execution_count": null,
      "outputs": [
        {
          "output_type": "stream",
          "name": "stdout",
          "text": [
            "20.0\n"
          ]
        },
        {
          "output_type": "execute_result",
          "data": {
            "text/plain": [
              "float"
            ]
          },
          "metadata": {},
          "execution_count": 24
        }
      ]
    },
    {
      "cell_type": "code",
      "source": [
        "#string ke float\n",
        "akurasi= '90.3'\n",
        "akurasi = float(akurasi)\n",
        "print(akurasi)\n",
        "type(akurasi)"
      ],
      "metadata": {
        "colab": {
          "base_uri": "https://localhost:8080/"
        },
        "id": "9chN18-S6Z9S",
        "outputId": "fbaa0bc9-e206-43df-e069-2872e926bf7f"
      },
      "execution_count": null,
      "outputs": [
        {
          "output_type": "stream",
          "name": "stdout",
          "text": [
            "90.3\n"
          ]
        },
        {
          "output_type": "execute_result",
          "data": {
            "text/plain": [
              "float"
            ]
          },
          "metadata": {},
          "execution_count": 25
        }
      ]
    },
    {
      "cell_type": "code",
      "source": [
        "#int ke string\n",
        "Jumlah = 20\n",
        "Jumlah = str(Jumlah)\n",
        "print(Jumlah)\n",
        "type(Jumlah)"
      ],
      "metadata": {
        "colab": {
          "base_uri": "https://localhost:8080/"
        },
        "id": "eVNftmFO6p_I",
        "outputId": "1ad7971a-0af4-4798-8fdd-474a91bab9ed"
      },
      "execution_count": null,
      "outputs": [
        {
          "output_type": "stream",
          "name": "stdout",
          "text": [
            "20\n"
          ]
        },
        {
          "output_type": "execute_result",
          "data": {
            "text/plain": [
              "str"
            ]
          },
          "metadata": {},
          "execution_count": 26
        }
      ]
    },
    {
      "cell_type": "code",
      "source": [
        "#string ke int\n",
        "Jumlah = '20'\n",
        "Jumlah = int(Jumlah)\n",
        "print(Jumlah)\n",
        "type(Jumlah)"
      ],
      "metadata": {
        "colab": {
          "base_uri": "https://localhost:8080/"
        },
        "id": "k3aCfj2060-t",
        "outputId": "3a3dc4b1-fbeb-4a4d-c996-b215df484d2d"
      },
      "execution_count": null,
      "outputs": [
        {
          "output_type": "stream",
          "name": "stdout",
          "text": [
            "20\n"
          ]
        },
        {
          "output_type": "execute_result",
          "data": {
            "text/plain": [
              "int"
            ]
          },
          "metadata": {},
          "execution_count": 27
        }
      ]
    },
    {
      "cell_type": "code",
      "source": [
        "#string ke int\n",
        "Nama = 'eka'\n",
        "Nama = int(Nama)\n",
        "print(Nama)\n",
        "type(Nama)"
      ],
      "metadata": {
        "colab": {
          "base_uri": "https://localhost:8080/",
          "height": 211
        },
        "id": "nQKunpSz78GY",
        "outputId": "f999e226-f2f5-4405-af52-72d94a03ebbc"
      },
      "execution_count": null,
      "outputs": [
        {
          "output_type": "error",
          "ename": "ValueError",
          "evalue": "invalid literal for int() with base 10: 'eka'",
          "traceback": [
            "\u001b[0;31m---------------------------------------------------------------------------\u001b[0m",
            "\u001b[0;31mValueError\u001b[0m                                Traceback (most recent call last)",
            "\u001b[0;32m<ipython-input-29-ac0b8b8c0937>\u001b[0m in \u001b[0;36m<cell line: 3>\u001b[0;34m()\u001b[0m\n\u001b[1;32m      1\u001b[0m \u001b[0;31m#string ke int\u001b[0m\u001b[0;34m\u001b[0m\u001b[0;34m\u001b[0m\u001b[0m\n\u001b[1;32m      2\u001b[0m \u001b[0mNama\u001b[0m \u001b[0;34m=\u001b[0m \u001b[0;34m'eka'\u001b[0m\u001b[0;34m\u001b[0m\u001b[0;34m\u001b[0m\u001b[0m\n\u001b[0;32m----> 3\u001b[0;31m \u001b[0mNama\u001b[0m \u001b[0;34m=\u001b[0m \u001b[0mint\u001b[0m\u001b[0;34m(\u001b[0m\u001b[0mNama\u001b[0m\u001b[0;34m)\u001b[0m\u001b[0;34m\u001b[0m\u001b[0;34m\u001b[0m\u001b[0m\n\u001b[0m\u001b[1;32m      4\u001b[0m \u001b[0mprint\u001b[0m\u001b[0;34m(\u001b[0m\u001b[0mNama\u001b[0m\u001b[0;34m)\u001b[0m\u001b[0;34m\u001b[0m\u001b[0;34m\u001b[0m\u001b[0m\n\u001b[1;32m      5\u001b[0m \u001b[0mtype\u001b[0m\u001b[0;34m(\u001b[0m\u001b[0mNama\u001b[0m\u001b[0;34m)\u001b[0m\u001b[0;34m\u001b[0m\u001b[0;34m\u001b[0m\u001b[0m\n",
            "\u001b[0;31mValueError\u001b[0m: invalid literal for int() with base 10: 'eka'"
          ]
        }
      ]
    },
    {
      "cell_type": "code",
      "source": [
        "#float to bool\n",
        "akurasi= 90.3\n",
        "akurasi = bool(akurasi)\n",
        "print(akurasi)\n",
        "type(akurasi)"
      ],
      "metadata": {
        "colab": {
          "base_uri": "https://localhost:8080/"
        },
        "id": "xNC0XCuN6_eJ",
        "outputId": "741e32f0-1c5f-4284-dac8-e89e14859225"
      },
      "execution_count": null,
      "outputs": [
        {
          "output_type": "stream",
          "name": "stdout",
          "text": [
            "True\n"
          ]
        },
        {
          "output_type": "execute_result",
          "data": {
            "text/plain": [
              "bool"
            ]
          },
          "metadata": {},
          "execution_count": 28
        }
      ]
    },
    {
      "cell_type": "markdown",
      "source": [
        "# Operator"
      ],
      "metadata": {
        "id": "msrjRSph8csN"
      }
    },
    {
      "cell_type": "code",
      "source": [
        "#operator Unary\n",
        "print(~4)\n",
        "print(-7)\n",
        "print(-(-7))\n",
        "print(+5)"
      ],
      "metadata": {
        "colab": {
          "base_uri": "https://localhost:8080/"
        },
        "id": "3ER1bodJ8fUi",
        "outputId": "fcc3714e-a91f-44b4-c340-9b9da02e28bd"
      },
      "execution_count": null,
      "outputs": [
        {
          "output_type": "stream",
          "name": "stdout",
          "text": [
            "-5\n",
            "-7\n",
            "7\n",
            "5\n"
          ]
        }
      ]
    },
    {
      "cell_type": "markdown",
      "source": [
        "Aritmatika\n",
        "1. ** = Pemangkatan\n",
        "2. (*) = perkalian\n",
        "3. (+) = Penambahan\n",
        "4. (-) = pengurangan\n",
        "5. / = pembagian\n",
        "6. // = pembagian dengan pembulatan kebawah\n",
        "7. % = Sisa Hasil pembagian"
      ],
      "metadata": {
        "id": "6Rxk2IMg--mz"
      }
    },
    {
      "cell_type": "code",
      "source": [
        "#operator aritmatika\n",
        "\n",
        "x=5\n",
        "y=3\n",
        "print(x ** y )\n",
        "print(x * y )\n",
        "print(x + y )\n",
        "print(x - y )\n",
        "print(x / y )\n",
        "print(x // y )\n",
        "print(x % y )"
      ],
      "metadata": {
        "colab": {
          "base_uri": "https://localhost:8080/"
        },
        "id": "NP9I4JWm9Wpm",
        "outputId": "b76992dd-084e-493d-b05a-90c20ac17c37"
      },
      "execution_count": null,
      "outputs": [
        {
          "output_type": "stream",
          "name": "stdout",
          "text": [
            "125\n",
            "15\n",
            "8\n",
            "2\n",
            "1.6666666666666667\n",
            "1\n",
            "2\n"
          ]
        }
      ]
    },
    {
      "cell_type": "code",
      "source": [
        "harga = 100\n",
        "\n",
        "harga +=20\n",
        "print (harga)\n",
        "\n",
        "harga -=10\n",
        "print (harga)"
      ],
      "metadata": {
        "colab": {
          "base_uri": "https://localhost:8080/"
        },
        "id": "ICeGIKmtBcI1",
        "outputId": "856e4790-f0d4-485a-f970-b01ce432d57c"
      },
      "execution_count": null,
      "outputs": [
        {
          "output_type": "stream",
          "name": "stdout",
          "text": [
            "120\n",
            "110\n"
          ]
        }
      ]
    },
    {
      "cell_type": "markdown",
      "source": [
        "Operator Perbandingan\n",
        "1. < = kurang dari\n",
        "2. (>) = lebih dari\n",
        "3. (<=) = kurang dari sama dengan\n",
        "4. (>=) = lebih dari sama dengan\n",
        "5. (==) = sama dengan\n",
        "6. (!=) = tidak sama dengan"
      ],
      "metadata": {
        "id": "CckN-BfABvp-"
      }
    },
    {
      "cell_type": "code",
      "source": [
        "x=5\n",
        "y=3\n",
        "print(x < y )\n",
        "print(x > y )\n",
        "print(x <= y )\n",
        "print(x >= y )\n",
        "print(x == y )\n",
        "print(x != y )"
      ],
      "metadata": {
        "colab": {
          "base_uri": "https://localhost:8080/"
        },
        "id": "xDy5ztFgCXvG",
        "outputId": "54eb720e-e710-4d31-8b46-d8026b64ddd0"
      },
      "execution_count": null,
      "outputs": [
        {
          "output_type": "stream",
          "name": "stdout",
          "text": [
            "False\n",
            "True\n",
            "False\n",
            "True\n",
            "False\n",
            "True\n"
          ]
        }
      ]
    },
    {
      "cell_type": "code",
      "source": [
        "password= 'user123'\n",
        "password_tersimpan= 'user123'\n",
        "\n",
        "verifikasi = password==password_tersimpan\n",
        "print(verifikasi)\n",
        "if verifikasi == True:\n",
        "  print ('verifikasi berhasil')\n",
        "else:\n",
        "  print ('verifikasi gagal')\n"
      ],
      "metadata": {
        "colab": {
          "base_uri": "https://localhost:8080/"
        },
        "id": "UBXvHyrLCtDZ",
        "outputId": "3fe11ca9-2f25-4ea6-9f43-bf719b486a87"
      },
      "execution_count": null,
      "outputs": [
        {
          "output_type": "stream",
          "name": "stdout",
          "text": [
            "True\n",
            "verifikasi berhasil\n"
          ]
        }
      ]
    },
    {
      "cell_type": "markdown",
      "source": [
        "operator logika\n",
        "1. and\n",
        "2. or\n",
        "3. not"
      ],
      "metadata": {
        "id": "nocg1-wAEQR9"
      }
    },
    {
      "cell_type": "code",
      "source": [
        "a =40\n",
        "b=32\n",
        "c= 16\n",
        "\n",
        "print (a>b and b<c)\n",
        "print (c>a or c==b)\n",
        "print(not(a==b))"
      ],
      "metadata": {
        "colab": {
          "base_uri": "https://localhost:8080/"
        },
        "id": "k7pVZI-GEOrK",
        "outputId": "bd11c141-b28f-4ba6-a69d-e6e04019b4a7"
      },
      "execution_count": null,
      "outputs": [
        {
          "output_type": "stream",
          "name": "stdout",
          "text": [
            "False\n",
            "False\n",
            "True\n"
          ]
        }
      ]
    },
    {
      "cell_type": "markdown",
      "source": [
        "# Latihan"
      ],
      "metadata": {
        "id": "j1nqar-8FMj6"
      }
    },
    {
      "cell_type": "code",
      "source": [
        "p =int(input('masukan nilai panjang:'))\n",
        "l =int(input('masukan nilai lebar:'))\n",
        "\n",
        "print('Luas Persegi panjang adalah = ',p*l)\n",
        "print('Keliling Persegi panjang adalah = ',2*(p+l))"
      ],
      "metadata": {
        "colab": {
          "base_uri": "https://localhost:8080/"
        },
        "id": "7F6vtdPrFO1P",
        "outputId": "ffae6ff2-0b48-45db-ecd0-0e5be9f3bd38"
      },
      "execution_count": null,
      "outputs": [
        {
          "output_type": "stream",
          "name": "stdout",
          "text": [
            "masukan nilai panjang:10\n",
            "masukan nilai lebar:13\n",
            "Luas Persegi panjang adalah =  130\n",
            "Keliling Persegi panjang adalah =  46\n"
          ]
        }
      ]
    },
    {
      "cell_type": "code",
      "source": [
        "phi = 3.14\n",
        "r = int(input('masukan nilai jari-jari:'))\n",
        "\n",
        "Llingkaran= phi*r*r\n",
        "Klingkaran = 2 *phi*r\n",
        "\n",
        "print('Luas Lingkaran adalah = ',Llingkaran)\n",
        "print('Keliling Lingkaran adalah = ',Klingkaran)\n"
      ],
      "metadata": {
        "colab": {
          "base_uri": "https://localhost:8080/"
        },
        "id": "GTQ-Y7owF527",
        "outputId": "96fd66a2-c575-46bc-87e8-b9f853a38d0b"
      },
      "execution_count": null,
      "outputs": [
        {
          "output_type": "stream",
          "name": "stdout",
          "text": [
            "masukan nilai jari-jari:10\n",
            "Luas Lingkaran adalah =  314.0\n",
            "Keliling Lingkaran adalah =  62.800000000000004\n"
          ]
        }
      ]
    },
    {
      "cell_type": "code",
      "source": [
        "phi = 3.14\n",
        "r = int(input('masukan nilai jari-jari:'))\n",
        "\n",
        "Lbola= 4*phi*r*r\n",
        "Vbola= 4/3 * phi *r*r*r\n",
        "\n",
        "print('Luas Bola adalah = ',Lbola)\n",
        "print('Keliling Bola adalah = ',Vbola)\n"
      ],
      "metadata": {
        "colab": {
          "base_uri": "https://localhost:8080/"
        },
        "id": "RPDqOuqmHqu7",
        "outputId": "1cf80b7f-2f82-47a5-f06a-53c8189779a4"
      },
      "execution_count": null,
      "outputs": [
        {
          "output_type": "stream",
          "name": "stdout",
          "text": [
            "masukan nilai jari-jari:2\n",
            "Luas Bola adalah =  50.24\n",
            "Keliling Bola adalah =  33.49333333333333\n"
          ]
        }
      ]
    }
  ]
}